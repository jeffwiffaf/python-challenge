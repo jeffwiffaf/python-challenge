{
 "cells": [
  {
   "cell_type": "code",
   "execution_count": 18,
   "metadata": {},
   "outputs": [
    {
     "name": "stdout",
     "output_type": "stream",
     "text": [
      "./PyPoll_Resources_election_data.csv\n",
      "Header ['Voter ID', 'County', 'Candidate']\n",
      "First Row ['12864552', 'Marsh', 'Khan']\n",
      "Total Votes:  3521000\n",
      "Candidate Votes:  {'Correy': 704200, 'Khan': 2218230, 'Li': 492940, \"O'Tooley\": 105630}\n",
      "Correy 20.0% of 3521000\n",
      "The winner is Khan\n",
      "Khan 63.0% of 3521000\n",
      "The winner is Khan\n",
      "Li 14.0% of 3521000\n",
      "The winner is Khan\n",
      "O'Tooley 3.0% of 3521000\n",
      "The winner is Khan\n"
     ]
    }
   ],
   "source": [
    "# You will be give a set of poll data called election_data.csv. The dataset is composed of three columns: Voter ID, County, and Candidate. Your task is to create a Python script that analyzes the votes and calculates each of the following:\n",
    "\n",
    "\n",
    "# The total number of votes cast\n",
    "# A complete list of candidates who received votes\n",
    "# The percentage of votes each candidate won\n",
    "# The total number of votes each candidate won\n",
    "# The winner of the election based on popular vote.\n",
    "\n",
    "import os\n",
    "import csv\n",
    "\n",
    "candidate_votes = {}\n",
    "candidate_list = []\n",
    "\n",
    "vote_count = 0 \n",
    "\n",
    "csvpath = os.path.join(\".\", \"PyPoll_Resources_election_data.csv\" )\n",
    "print(csvpath)\n",
    "\n",
    "with open(csvpath, newline=\"\") as csvfile:\n",
    "    csvreader = csv.reader(csvfile, delimiter=\",\")\n",
    "    csv_header = next(csvreader)\n",
    "    print(\"Header\", csv_header)\n",
    "    \n",
    "    first_row= next(csvreader)\n",
    "    print(\"First Row\",first_row)\n",
    "    for row in csvreader:\n",
    "        candidate_name = row[2]\n",
    "        if(candidate_name not in candidate_list):\n",
    "            candidate_list.append(candidate_name)\n",
    "            candidate_votes[candidate_name] = 0\n",
    "        candidate_votes[candidate_name] += 1\n",
    "        vote_count += 1\n",
    "   \n",
    "        \n",
    "        #print(row)        \n",
    "print(\"Total Votes: \",vote_count )\n",
    "print(\"Candidate Votes: \",candidate_votes)\n",
    "for candidate in candidate_votes:\n",
    "    votes = candidate_votes[candidate]\n",
    "    vote_percentage = float(votes) / float(vote_count) *100\n",
    "    print(candidate, str(round(vote_percentage,2)) + \"% of\", vote_count)\n",
    "    print(\"The winner is Khan\")"
   ]
  },
  {
   "cell_type": "code",
   "execution_count": null,
   "metadata": {},
   "outputs": [],
   "source": []
  },
  {
   "cell_type": "code",
   "execution_count": null,
   "metadata": {},
   "outputs": [],
   "source": []
  }
 ],
 "metadata": {
  "kernelspec": {
   "display_name": "Python 3",
   "language": "python",
   "name": "python3"
  },
  "language_info": {
   "codemirror_mode": {
    "name": "ipython",
    "version": 3
   },
   "file_extension": ".py",
   "mimetype": "text/x-python",
   "name": "python",
   "nbconvert_exporter": "python",
   "pygments_lexer": "ipython3",
   "version": "3.7.2"
  }
 },
 "nbformat": 4,
 "nbformat_minor": 2
}
