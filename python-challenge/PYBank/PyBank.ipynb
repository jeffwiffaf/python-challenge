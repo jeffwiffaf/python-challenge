{
 "cells": [
  {
   "cell_type": "code",
   "execution_count": 65,
   "metadata": {},
   "outputs": [
    {
     "name": "stdout",
     "output_type": "stream",
     "text": [
      "Financial Analysis\n",
      "--------------------------------------------------\n",
      "Total Months: 86\n",
      "Total Net: 38382578\n",
      "Average Change:  -2315.1176470588234\n",
      "Greatest Increase in Profits Feb-2012 1926159\n",
      "Greatest Decrease in Profits Sep-2013 -2196167\n"
     ]
    }
   ],
   "source": [
    "# The total number of months included in the dataset\n",
    "# The net total amount of \"Profit/Losses\" over the entire period\n",
    "# The average of the changes in \"Profit/Losses\" over the entire period\n",
    "# The greatest increase in profits (date and amount) over the entire period\n",
    "# The greatest decrease in losses (date and amount) over the entire period\n",
    "# Need  to import budget_data.csv\n",
    "# date profit/losses\n",
    "\n",
    "\n",
    "import os \n",
    "import csv \n",
    "\n",
    "csvpath = os.path.join('.', 'PyBank_Resources_Budget_Data.csv')\n",
    "#print(csvpath)\n",
    "\n",
    "\n",
    "total_months = 0\n",
    "total_net = 0\n",
    "net_change_list = []\n",
    "greatest_increase = [\"\",0]\n",
    "greatest_decrease = [\"\", 9999999999]\n",
    "\n",
    "\n",
    "with open(csvpath, newline='') as csvfile:\n",
    "    csvreader = csv.reader(csvfile, delimiter=',')\n",
    "    csv_header = next(csvreader)\n",
    "    #print(\"Header\",csv_header)\n",
    "    #print(\"Data:\")\n",
    "    \n",
    "    first_row = next(csvreader)\n",
    "    #print(\"First Row\",first_row)\n",
    "    total_months += 1\n",
    "    total_net = total_net + int(first_row[1])\n",
    "    previous_net = int(first_row[1]) #867884\n",
    "\n",
    "    \n",
    "    for row in csvreader:\n",
    "        #print(row)\n",
    "        total_months += 1\n",
    "        total_net = total_net +int(row[1])\n",
    "        net_change = int(row[1]) - previous_net #984655-867884 #322013-984655 #-69417-32013 \n",
    "        previous_net = int(row[1]) #984655 #322013\n",
    "        net_change_list.append(net_change)\n",
    "        \n",
    "        if net_change > greatest_increase[1]:\n",
    "            greatest_increase[0] = row[0]\n",
    "            greatest_increase[1] = net_change\n",
    "        \n",
    "        if net_change < greatest_decrease [1]:\n",
    "            greatest_decrease[0] = row[0]\n",
    "            greatest_decrease[1] = net_change\n",
    "        \n",
    "        \n",
    "            \n",
    "            \n",
    "        \n",
    "    print(\"Financial Analysis\")\n",
    "    print(\"-\" * 50)\n",
    "    print(\"Total Months:\", total_months) #86 months\n",
    "    print(\"Total Net:\", total_net)\n",
    "    print(\"Average Change: \",sum(net_change_list)/len(net_change_list))\n",
    "    print(\"Greatest Increase in Profits\", greatest_increase[0], greatest_increase[1])\n",
    "    print(\"Greatest Decrease in Profits\", greatest_decrease[0], greatest_decrease[1])"
   ]
  },
  {
   "cell_type": "code",
   "execution_count": null,
   "metadata": {},
   "outputs": [],
   "source": []
  }
 ],
 "metadata": {
  "kernelspec": {
   "display_name": "Python 2",
   "language": "python",
   "name": "python2"
  },
  "language_info": {
   "codemirror_mode": {
    "name": "ipython",
    "version": 2
   },
   "file_extension": ".py",
   "mimetype": "text/x-python",
   "name": "python",
   "nbconvert_exporter": "python",
   "pygments_lexer": "ipython2",
   "version": "2.7.15"
  }
 },
 "nbformat": 4,
 "nbformat_minor": 2
}
